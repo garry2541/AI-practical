{
 "cells": [
  {
   "cell_type": "markdown",
   "id": "e4dc075a-5467-4b50-8091-203472c42d73",
   "metadata": {},
   "source": [
    "<h1>Giridhar Balakrishnan </h1>"
   ]
  },
  {
   "cell_type": "code",
   "execution_count": 1,
   "id": "5345f7c6-9df9-42bd-a007-60b15790af53",
   "metadata": {},
   "outputs": [],
   "source": [
    "import pandas\n",
    "from sklearn import model_selection\n",
    "from sklearn.ensemble import AdaBoostClassifier"
   ]
  },
  {
   "cell_type": "code",
   "execution_count": 2,
   "id": "dd2fa28d-71f8-43ed-ba6e-f95a4e974f77",
   "metadata": {},
   "outputs": [],
   "source": [
    "url = \"https://raw.githubusercontent.com/jbrownlee/Datasets/master/pima-indians-diabetes.data.csv\"\n",
    "names = ['preg', 'plas', 'pres', 'skin', 'test', 'mass', 'pedi', 'age', 'class']\n",
    "dataframe = pandas.read_csv(url, names=names)\n",
    "array = dataframe.values"
   ]
  },
  {
   "cell_type": "code",
   "execution_count": 3,
   "id": "b720b804-1467-46e0-a9ba-43e99d96c831",
   "metadata": {},
   "outputs": [],
   "source": [
    "X = array[:,0:8]\n",
    "Y = array[:,8]\n",
    "seed = 7\n",
    "num_trees = 30"
   ]
  },
  {
   "cell_type": "code",
   "execution_count": 4,
   "id": "0dbe4b62-73d9-4da4-813c-5b8fd2c387c8",
   "metadata": {},
   "outputs": [],
   "source": [
    "model = AdaBoostClassifier(n_estimators=num_trees, random_state=seed)"
   ]
  },
  {
   "cell_type": "code",
   "execution_count": 5,
   "id": "b7d437a6-1777-460d-bba8-bb3fef4e6d67",
   "metadata": {},
   "outputs": [
    {
     "name": "stdout",
     "output_type": "stream",
     "text": [
      "0.7617774382480265\n"
     ]
    }
   ],
   "source": [
    "results = model_selection.cross_val_score(model, X, Y)\n",
    "print(results.mean()) \n"
   ]
  },
  {
   "cell_type": "code",
   "execution_count": null,
   "id": "8ef2f814-369a-4dca-b117-0fc5801817b5",
   "metadata": {},
   "outputs": [],
   "source": []
  }
 ],
 "metadata": {
  "kernelspec": {
   "display_name": "Python 3 (ipykernel)",
   "language": "python",
   "name": "python3"
  },
  "language_info": {
   "codemirror_mode": {
    "name": "ipython",
    "version": 3
   },
   "file_extension": ".py",
   "mimetype": "text/x-python",
   "name": "python",
   "nbconvert_exporter": "python",
   "pygments_lexer": "ipython3",
   "version": "3.11.2"
  }
 },
 "nbformat": 4,
 "nbformat_minor": 5
}
